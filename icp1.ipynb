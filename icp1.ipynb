{
  "nbformat": 4,
  "nbformat_minor": 0,
  "metadata": {
    "colab": {
      "provenance": []
    },
    "kernelspec": {
      "name": "python3",
      "display_name": "Python 3"
    },
    "language_info": {
      "name": "python"
    }
  },
  "cells": [
    {
      "cell_type": "code",
      "execution_count": 2,
      "metadata": {
        "colab": {
          "base_uri": "https://localhost:8080/"
        },
        "id": "0kf52Dfk5nw7",
        "outputId": "a1b82790-0c1c-440a-ffd9-5c7bc12b29a7"
      },
      "outputs": [
        {
          "output_type": "stream",
          "name": "stdout",
          "text": [
            " i love playing with pythons\n"
          ]
        }
      ],
      "source": [
        "txt=\" i love playing with python\"\n",
        "x=txt. replace(\"python\",\"pythons\")\n",
        "print(x)"
      ]
    },
    {
      "cell_type": "code",
      "source": [
        "grade=int(input())\n",
        "if(90<=grade<=100):\n",
        "  print(\"A\")\n",
        "elif(80<=grade<90):\n",
        "  print(\"B\")\n",
        "elif(70<=grade<80):\n",
        "  print(\"c\")\n",
        "elif(60<=grade<70):\n",
        "  print(\"D\")\n",
        "else:\n",
        "  print(\"F\")"
      ],
      "metadata": {
        "colab": {
          "base_uri": "https://localhost:8080/"
        },
        "id": "Ri9_BACy-ONl",
        "outputId": "de5bdf6d-45d5-437c-e9ac-7104e4d93e0f"
      },
      "execution_count": 14,
      "outputs": [
        {
          "output_type": "stream",
          "name": "stdout",
          "text": [
            "65\n",
            "D\n"
          ]
        }
      ]
    },
    {
      "cell_type": "code",
      "source": [
        "s=list(input())\n",
        "s.remove(s[3])\n",
        "s.remove(s[3])\n",
        "s.reverse()\n",
        "result=map(str,s)\n",
        "result = ''.join(s)\n",
        "print(result)"
      ],
      "metadata": {
        "colab": {
          "base_uri": "https://localhost:8080/"
        },
        "id": "L_CVOBEFAnm5",
        "outputId": "1ed7e93c-506e-481a-ae31-08bf37996cbe"
      },
      "execution_count": 15,
      "outputs": [
        {
          "output_type": "stream",
          "name": "stdout",
          "text": [
            "python\n",
            "ntyp\n"
          ]
        }
      ]
    }
  ]
}